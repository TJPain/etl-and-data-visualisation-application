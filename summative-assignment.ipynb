{
 "cells": [
  {
   "cell_type": "markdown",
   "id": "9169d50a",
   "metadata": {},
   "source": [
    "# Advanced Programming Summative Assignment\n",
    "\n",
    "Please see the README file (README.md) for a full overview of the project, installation instructions and running instructions. \n",
    "\n",
    "## Contents\n",
    "\n",
    "#### 1.0 [Package installations and import statements](#1.0-Package-installations-and-import-statements)\n",
    "\n",
    "#### 2.0 [Data extraction and cleaning](#2.0-Data-extraction-and-cleaning)\n",
    "\n",
    "2.1 [Read CSVs to dataframes and general data cleaning](#2.2-Merge-airport-and-frequency-dataframes)\n",
    "\n",
    "2.2 [Merge airport and frequency dataframes](#2.1-Read-CSVs-to-dataframes-and-general-data-cleaning)\n",
    "\n",
    "2.3 [Transform dataframes to JSON](#2.3-Transform-dataframes-to-JSON)\n",
    "\n",
    "#### 3.0 [Load data to MySQL database](#3.0-Load-data-to-MySQL-database)\n"
   ]
  },
  {
   "cell_type": "markdown",
   "id": "89ac444f",
   "metadata": {},
   "source": [
    "### 1.0 Package installations and import statements"
   ]
  },
  {
   "cell_type": "code",
   "execution_count": 1,
   "id": "38ca82a5",
   "metadata": {},
   "outputs": [],
   "source": [
    "# Installing missing packages\n",
    "# import sys\n",
    "# !conda install --yes --prefix {sys.prefix} mysql-connector-python \n",
    "# !conda install --yes --prefix {sys.prefix} numpy\n",
    "# !conda install --yes --prefix {sys.prefix} pandas\n"
   ]
  },
  {
   "cell_type": "code",
   "execution_count": 1,
   "id": "1453cb21",
   "metadata": {},
   "outputs": [],
   "source": [
    "# Import packages\n",
    "import os\n",
    "import pandas as pd\n",
    "import numpy as np\n",
    "import json\n",
    "# import mysql.connector\n",
    "# import matplotlib.pyplot as plt\n",
    "# import seaborn as sns\n",
    "import tkinter as tk"
   ]
  },
  {
   "cell_type": "markdown",
   "id": "f15799b3",
   "metadata": {},
   "source": [
    "### 2.0 Data extraction and cleaning\n",
    "\n",
    "A lot of the data processing is generic and not specific to the original data. This allows the application to handle other datasets from the same source. "
   ]
  },
  {
   "cell_type": "markdown",
   "id": "d8e5457f",
   "metadata": {},
   "source": [
    "#### 2.1 Read CSVs to dataframes and general data cleaning"
   ]
  },
  {
   "cell_type": "code",
   "execution_count": 72,
   "id": "11e41857",
   "metadata": {
    "scrolled": true
   },
   "outputs": [],
   "source": [
    "# Extract data from CSV files\n",
    "df_runways = pd.read_csv ('data/runways.csv', index_col=['id'])\n",
    "df_frequencies = pd.read_csv ('data/airport-frequencies.csv', index_col=['id'])\n",
    "# Prevent pandas from replacing the 'continent' value 'NA' (for North America) with NaN \n",
    "df_airports = pd.read_csv ('data/airports.csv', keep_default_na=False)\n",
    "\n",
    "# Remove any rows with all data missing\n",
    "df_airports.dropna(how='all')\n",
    "df_runways.dropna(how='all')\n",
    "df_frequencies.dropna(how='all')\n",
    "\n",
    "# Remove any duplicated rows\n",
    "df_airports.drop_duplicates()\n",
    "df_runways.drop_duplicates()\n",
    "df_frequencies.drop_duplicates()\n",
    "\n",
    "# Remove unneeded columns\n",
    "df_airports.drop(['keywords','home_link','local_code'], axis='columns', inplace=True)\n",
    "df_runways.drop(['airport_ident'], axis='columns', inplace=True)\n",
    "df_frequencies.drop(['airport_ident','description','type'], axis='columns', inplace=True)\n",
    "\n",
    "# change the airport column id name to airport_ref to align with other data\n",
    "df_airports.rename(columns={\"id\": \"airport_ref\"}, inplace=True)\n",
    "\n",
    "# Remove rows that do not have a valid airport_ref\n",
    "df_airports = df_airports[df_airports['airport_ref'].apply(lambda x: str(x).isdigit())]\n",
    "df_runways = df_runways[df_runways['airport_ref'].apply(lambda x: str(x).isdigit())]\n",
    "df_frequencies = df_frequencies[df_frequencies['airport_ref'].apply(lambda x: str(x).isdigit())]\n",
    "\n",
    "# Add columns to the Airports df for small, medium and large airports with binary values\n",
    "df_airports['small_airport'] = df_airports.type == 'small_airport'\n",
    "df_airports['medium_airport'] = df_airports.type == 'medium_airport'\n",
    "df_airports['large_airport'] = df_airports.type == 'large_airport'\n",
    "df_airports['small_airport'] = df_airports['small_airport'].astype(int) \n",
    "df_airports['medium_airport'] = df_airports['medium_airport'].astype(int) \n",
    "df_airports['large_airport'] = df_airports['large_airport'].astype(int) \n",
    "\n",
    "# filter out closed airports - may need to force a copy, not sure yet - may need to do this after frequencies are added\n",
    "df_airports = df_airports[(df_airports.type != 'closed')]"
   ]
  },
  {
   "cell_type": "markdown",
   "id": "3c29c4fc",
   "metadata": {},
   "source": [
    "#### 2.2 Merge airport and frequency dataframes"
   ]
  },
  {
   "cell_type": "code",
   "execution_count": 70,
   "metadata": {},
   "outputs": [],
   "source": [
    "# Create an empty dict to hold one key for each airport with a nested list of frequencies \n",
    "frequencies_dict = {}\n",
    "\n",
    "# Iterate through the frequencies creating one key for each airport with a list for it's frequencies \n",
    "for index, row in df_frequencies.iterrows():\n",
    "    if row['airport_ref'] not in frequencies_dict:\n",
    "        frequencies_dict[row['airport_ref']] = [row['frequency_mhz']]\n",
    "    else:\n",
    "        frequencies_dict[row['airport_ref']].append(row['frequency_mhz'])\n",
    "\n",
    "# Create a pandas series of airports (as index) and frequency lists \n",
    "df_frequencies_series = pd.Series(frequencies_dict, name='df_frequencies_series')\n",
    "# Rename the column titles to align with other data \n",
    "df_airports_frequencies = df_frequencies_series.to_frame()\n",
    "df_airports_frequencies.index.name = 'airport_ref'\n",
    "# Convert to dataframe and merge with airports dataframe \n",
    "df_airports_frequencies.rename(columns={'df_frequencies_series': 'frequency_mhz'}, inplace = True)\n",
    "df_airports_frequencies = pd.merge(df_airports, df_airports_frequencies, on=\"airport_ref\", how = 'left')"
   ]
  },
  {
   "cell_type": "markdown",
   "id": "86fbfbec",
   "metadata": {},
   "source": [
    "#### 2.3 Transform dataframes to JSON"
   ]
  },
  {
   "cell_type": "code",
   "execution_count": 67,
   "id": "05fb3951",
   "metadata": {},
   "outputs": [],
   "source": [
    "# write combined airport and frequency data to JSON\n",
    "airports_frequencies_json = df_airports_frequencies.to_json(orient = 'records')\n",
    "airports_frequencies_json_list = json.loads(airports_frequencies_json)\n",
    "         \n",
    "# write runways data to JSON\n",
    "runways_json = df_runways.to_json(orient = 'records')\n",
    "runways_json_list = json.loads(runways_json)"
   ]
  },
  {
   "cell_type": "markdown",
   "id": "d8d65de7",
   "metadata": {},
   "source": [
    "### 3.0 Load data to MySQL database"
   ]
  },
  {
   "cell_type": "code",
   "execution_count": null,
   "id": "fb169edd",
   "metadata": {},
   "outputs": [],
   "source": []
  }
 ],
 "metadata": {
  "kernelspec": {
   "display_name": "Python 3",
   "language": "python",
   "name": "python3"
  },
  "language_info": {
   "codemirror_mode": {
    "name": "ipython",
    "version": 3
   },
   "file_extension": ".py",
   "mimetype": "text/x-python",
   "name": "python",
   "nbconvert_exporter": "python",
   "pygments_lexer": "ipython3",
   "version": "3.8.8"
  }
 },
 "nbformat": 4,
 "nbformat_minor": 5
}
