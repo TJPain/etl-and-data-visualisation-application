{
 "cells": [
  {
   "cell_type": "markdown",
   "id": "c37cfea3",
   "metadata": {},
   "source": [
    "# Advanced Programming Summative Assignment\n",
    "\n",
    "Please see the README file (README.md) for a full overview of the project, installation instructions and running instructions. \n",
    "\n",
    "## Contents\n",
    "\n",
    "#### 1.0 [Import Statements](#1.0-Import-statements)\n",
    "\n",
    "#### 2.0 [Some test....](#2.0-Some-test)\n",
    "\n",
    "2.1 [Some other test](#2.1-Some-other-test)"
   ]
  },
  {
   "cell_type": "markdown",
   "id": "955f384a",
   "metadata": {},
   "source": [
    "### 1.0 Import statements"
   ]
  },
  {
   "cell_type": "code",
   "execution_count": 6,
   "id": "1453cb21",
   "metadata": {},
   "outputs": [],
   "source": [
    "# import statements\n",
    "import pandas as pd"
   ]
  },
  {
   "cell_type": "code",
   "execution_count": 4,
   "id": "ade78cd0",
   "metadata": {
    "scrolled": true
   },
   "outputs": [
    {
     "name": "stdout",
     "output_type": "stream",
     "text": [
      "           id  airport_ref airport_ident   type               description  \\\n",
      "0       70518         6528          00CA   CTAF                      CTAF   \n",
      "1      307581         6589          01FL  ARCAL                       NaN   \n",
      "2       75239         6589          01FL   CTAF       CEDAR KNOLL TRAFFIC   \n",
      "3       60191         6756          04CA   CTAF                      CTAF   \n",
      "4       59287         6779          04MS   UNIC                    UNICOM   \n",
      "...       ...          ...           ...    ...                       ...   \n",
      "28957   51248        27242          ZYTL    TWR                DALIAN TWR   \n",
      "28958  341318        27243          ZYTX   APPR  taoxian approach low fan   \n",
      "28959   51243        27243          ZYTX   ATIS                      ATIS   \n",
      "28960   51244        27243          ZYTX    TWR              SHENYANG TWR   \n",
      "28961   51190        27244          ZYYJ    TWR                       TWR   \n",
      "\n",
      "       frequency_mhz  \n",
      "0            122.900  \n",
      "1            122.900  \n",
      "2            122.800  \n",
      "3            122.900  \n",
      "4            122.800  \n",
      "...              ...  \n",
      "28957        118.250  \n",
      "28958        119.825  \n",
      "28959        127.450  \n",
      "28960        118.100  \n",
      "28961        130.000  \n",
      "\n",
      "[28962 rows x 6 columns]\n"
     ]
    }
   ],
   "source": [
    "df = pd.read_csv ('airport-frequencies.csv')\n",
    "print(df)"
   ]
  },
  {
   "cell_type": "code",
   "execution_count": null,
   "id": "54a916a8",
   "metadata": {},
   "outputs": [],
   "source": []
  },
  {
   "cell_type": "code",
   "execution_count": null,
   "id": "599dd907",
   "metadata": {},
   "outputs": [],
   "source": []
  },
  {
   "cell_type": "markdown",
   "id": "3e7b7332",
   "metadata": {},
   "source": [
    "### 2.0 Some test"
   ]
  },
  {
   "cell_type": "code",
   "execution_count": null,
   "id": "d3321c38",
   "metadata": {},
   "outputs": [],
   "source": []
  },
  {
   "cell_type": "markdown",
   "id": "02150ba5",
   "metadata": {},
   "source": [
    "#### 2.1 Some other test"
   ]
  },
  {
   "cell_type": "code",
   "execution_count": null,
   "id": "1bd76cee",
   "metadata": {},
   "outputs": [],
   "source": []
  }
 ],
 "metadata": {
  "kernelspec": {
   "display_name": "Python 3",
   "language": "python",
   "name": "python3"
  },
  "language_info": {
   "codemirror_mode": {
    "name": "ipython",
    "version": 3
   },
   "file_extension": ".py",
   "mimetype": "text/x-python",
   "name": "python",
   "nbconvert_exporter": "python",
   "pygments_lexer": "ipython3",
   "version": "3.8.8"
  }
 },
 "nbformat": 4,
 "nbformat_minor": 5
}
