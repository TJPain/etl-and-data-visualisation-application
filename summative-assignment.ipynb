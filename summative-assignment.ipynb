{
 "cells": [
  {
   "cell_type": "markdown",
   "id": "9169d50a",
   "metadata": {},
   "source": [
    "# Advanced Programming Summative Assignment\n",
    "\n",
    "Please see the README file (README.md) for a full overview of the project, installation instructions and running instructions. \n",
    "\n",
    "## Contents\n",
    "\n",
    "#### 1.0 [Import Statements](#1.0-Import-statements)\n",
    "\n",
    "#### 2.0 [Some test....](#2.0-Some-test)\n",
    "\n",
    "2.1 [Some other test](#2.1-Some-other-test)"
   ]
  },
  {
   "cell_type": "markdown",
   "id": "89ac444f",
   "metadata": {},
   "source": [
    "### 1.0 Import statements"
   ]
  },
  {
   "cell_type": "code",
   "execution_count": 4,
   "id": "1453cb21",
   "metadata": {},
   "outputs": [],
   "source": [
    "# import statements\n",
    "import pandas as pd\n",
    "import numpy as np\n",
    "import json"
   ]
  },
  {
   "cell_type": "code",
   "execution_count": 69,
   "id": "11e41857",
   "metadata": {
    "scrolled": true
   },
   "outputs": [
    {
     "name": "stdout",
     "output_type": "stream",
     "text": [
      "       id ident           type                             name  latitude_deg  \\\n",
      "0    6523   00A       heliport                Total Rf Heliport     40.070801   \n",
      "1  323361  00AA  small_airport             Aero B Ranch Airport     38.704022   \n",
      "2    6524  00AK  small_airport                     Lowell Field     59.947733   \n",
      "3    6525  00AL  small_airport                     Epps Airpark     34.864799   \n",
      "5  322127  00AS  small_airport                   Fulton Airport     34.942803   \n",
      "6    6527  00AZ  small_airport                   Cordes Airport     34.305599   \n",
      "7    6528  00CA  small_airport          Goldstone (GTS) Airport     35.354740   \n",
      "8  324424  00CL  small_airport              Williams Ag Airport     39.427188   \n",
      "9  322658  00CN       heliport  Kitchen Creek Helibase Heliport     32.727374   \n",
      "\n",
      "   longitude_deg  elevation_ft  continent iso_country iso_region  \\\n",
      "0     -74.933601            11        NaN          US      US-PA   \n",
      "1    -101.473911          3435        NaN          US      US-KS   \n",
      "2    -151.692524           450        NaN          US      US-AK   \n",
      "3     -86.770302           820        NaN          US      US-AL   \n",
      "5     -97.818019          1100        NaN          US      US-OK   \n",
      "6    -112.165001          3810        NaN          US      US-AZ   \n",
      "7    -116.885329          3038        NaN          US      US-CA   \n",
      "8    -121.763427            87        NaN          US      US-CA   \n",
      "9    -116.459742          3350        NaN          US      US-CA   \n",
      "\n",
      "   municipality scheduled_service gps_code  iata_code local_code  \\\n",
      "0      Bensalem                no      00A        NaN        00A   \n",
      "1         Leoti                no     00AA        NaN       00AA   \n",
      "2  Anchor Point                no     00AK        NaN       00AK   \n",
      "3       Harvest                no     00AL        NaN       00AL   \n",
      "5          Alex                no     00AS        NaN       00AS   \n",
      "6        Cordes                no     00AZ        NaN       00AZ   \n",
      "7       Barstow                no     00CA        NaN       00CA   \n",
      "8         Biggs                no     00CL        NaN       00CL   \n",
      "9   Pine Valley                no     00CN        NaN       00CN   \n",
      "\n",
      "   wikipedia_link  large_airport  medium_airport  small_airport  \n",
      "0             NaN            0.0             0.0            1.0  \n",
      "1             NaN            0.0             1.0            0.0  \n",
      "2             NaN            1.0             0.0            0.0  \n",
      "3             NaN            NaN             NaN            NaN  \n",
      "5             NaN            NaN             NaN            NaN  \n",
      "6             NaN            NaN             NaN            NaN  \n",
      "7             NaN            NaN             NaN            NaN  \n",
      "8             NaN            NaN             NaN            NaN  \n",
      "9             NaN            NaN             NaN            NaN  \n"
     ]
    }
   ],
   "source": [
    "# read CSV files\n",
    "df_airports = pd.read_csv ('data/airports.csv', nrows=10)\n",
    "df_runways = pd.read_csv ('data/runways.csv', index_col=['id'], nrows=10)\n",
    "df_frequencies = pd.read_csv ('data/airport-frequencies.csv', index_col=['id'], nrows=10)\n",
    "\n",
    "#remove any rows with all data missing\n",
    "df_airports.dropna(how='all')\n",
    "#remove any duplicated rows\n",
    "df_airports.drop_duplicates()\n",
    "# drop largely empty or irrelevant columns\n",
    "df_airports = df_airports.drop(['keywords','home_link'], axis='columns')\n",
    "# filter out closed airports - may need to force a copy, not sure yet\n",
    "df_airports = df_airports[(df_airports.type != 'closed')]\n",
    "# add columns for small, medium and large with binary values\n",
    "types = ['small_airport','medium_airport','large_airport']\n",
    "zero_matrix = np.zeros((len(df_airports), len(types)))\n",
    "\n",
    "\n",
    "\n",
    "\n",
    "\n",
    "df_airports = df_airports.join(pd.get_dummies(col_values))\n",
    "\n",
    "print(df_airports)"
   ]
  },
  {
   "cell_type": "code",
   "execution_count": 63,
   "id": "4961ae8f",
   "metadata": {},
   "outputs": [
    {
     "name": "stdout",
     "output_type": "stream",
     "text": [
      "[{\"id\":6523,\"ident\":\"00A\",\"type\":\"heliport\",\"name\":\"Total Rf Heliport\",\"latitude_deg\":40.0708007812,\"longitude_deg\":-74.9336013794,\"elevation_ft\":11,\"continent\":null,\"iso_country\":\"US\",\"iso_region\":\"US-PA\",\"municipality\":\"Bensalem\",\"scheduled_service\":\"no\",\"gps_code\":\"00A\",\"iata_code\":null,\"local_code\":\"00A\",\"wikipedia_link\":null},{\"id\":323361,\"ident\":\"00AA\",\"type\":\"small_airport\",\"name\":\"Aero B Ranch Airport\",\"latitude_deg\":38.704022,\"longitude_deg\":-101.473911,\"elevation_ft\":3435,\"continent\":null,\"iso_country\":\"US\",\"iso_region\":\"US-KS\",\"municipality\":\"Leoti\",\"scheduled_service\":\"no\",\"gps_code\":\"00AA\",\"iata_code\":null,\"local_code\":\"00AA\",\"wikipedia_link\":null},{\"id\":6524,\"ident\":\"00AK\",\"type\":\"small_airport\",\"name\":\"Lowell Field\",\"latitude_deg\":59.947733,\"longitude_deg\":-151.692524,\"elevation_ft\":450,\"continent\":null,\"iso_country\":\"US\",\"iso_region\":\"US-AK\",\"municipality\":\"Anchor Point\",\"scheduled_service\":\"no\",\"gps_code\":\"00AK\",\"iata_code\":null,\"local_code\":\"00AK\",\"wikipedia_link\":null},{\"id\":6525,\"ident\":\"00AL\",\"type\":\"small_airport\",\"name\":\"Epps Airpark\",\"latitude_deg\":34.8647994995,\"longitude_deg\":-86.7703018188,\"elevation_ft\":820,\"continent\":null,\"iso_country\":\"US\",\"iso_region\":\"US-AL\",\"municipality\":\"Harvest\",\"scheduled_service\":\"no\",\"gps_code\":\"00AL\",\"iata_code\":null,\"local_code\":\"00AL\",\"wikipedia_link\":null},{\"id\":322127,\"ident\":\"00AS\",\"type\":\"small_airport\",\"name\":\"Fulton Airport\",\"latitude_deg\":34.9428028,\"longitude_deg\":-97.8180194,\"elevation_ft\":1100,\"continent\":null,\"iso_country\":\"US\",\"iso_region\":\"US-OK\",\"municipality\":\"Alex\",\"scheduled_service\":\"no\",\"gps_code\":\"00AS\",\"iata_code\":null,\"local_code\":\"00AS\",\"wikipedia_link\":null},{\"id\":6527,\"ident\":\"00AZ\",\"type\":\"small_airport\",\"name\":\"Cordes Airport\",\"latitude_deg\":34.3055992126,\"longitude_deg\":-112.1650009155,\"elevation_ft\":3810,\"continent\":null,\"iso_country\":\"US\",\"iso_region\":\"US-AZ\",\"municipality\":\"Cordes\",\"scheduled_service\":\"no\",\"gps_code\":\"00AZ\",\"iata_code\":null,\"local_code\":\"00AZ\",\"wikipedia_link\":null},{\"id\":6528,\"ident\":\"00CA\",\"type\":\"small_airport\",\"name\":\"Goldstone (GTS) Airport\",\"latitude_deg\":35.35474,\"longitude_deg\":-116.885329,\"elevation_ft\":3038,\"continent\":null,\"iso_country\":\"US\",\"iso_region\":\"US-CA\",\"municipality\":\"Barstow\",\"scheduled_service\":\"no\",\"gps_code\":\"00CA\",\"iata_code\":null,\"local_code\":\"00CA\",\"wikipedia_link\":null},{\"id\":324424,\"ident\":\"00CL\",\"type\":\"small_airport\",\"name\":\"Williams Ag Airport\",\"latitude_deg\":39.427188,\"longitude_deg\":-121.763427,\"elevation_ft\":87,\"continent\":null,\"iso_country\":\"US\",\"iso_region\":\"US-CA\",\"municipality\":\"Biggs\",\"scheduled_service\":\"no\",\"gps_code\":\"00CL\",\"iata_code\":null,\"local_code\":\"00CL\",\"wikipedia_link\":null},{\"id\":322658,\"ident\":\"00CN\",\"type\":\"heliport\",\"name\":\"Kitchen Creek Helibase Heliport\",\"latitude_deg\":32.7273736,\"longitude_deg\":-116.4597417,\"elevation_ft\":3350,\"continent\":null,\"iso_country\":\"US\",\"iso_region\":\"US-CA\",\"municipality\":\"Pine Valley\",\"scheduled_service\":\"no\",\"gps_code\":\"00CN\",\"iata_code\":null,\"local_code\":\"00CN\",\"wikipedia_link\":null}]\n"
     ]
    }
   ],
   "source": [
    "# write to JSON\n",
    "airports_json = df_airports.to_json(orient = 'records')\n",
    "print(airports_json)"
   ]
  },
  {
   "cell_type": "code",
   "execution_count": null,
   "id": "81f08a9f",
   "metadata": {},
   "outputs": [],
   "source": []
  },
  {
   "cell_type": "markdown",
   "id": "f15799b3",
   "metadata": {},
   "source": [
    "### 2.0 Some test"
   ]
  },
  {
   "cell_type": "code",
   "execution_count": null,
   "id": "f2cded8e",
   "metadata": {},
   "outputs": [],
   "source": []
  },
  {
   "cell_type": "markdown",
   "id": "d8d65de7",
   "metadata": {},
   "source": [
    "#### 2.1 Some other test"
   ]
  },
  {
   "cell_type": "code",
   "execution_count": null,
   "id": "fb169edd",
   "metadata": {},
   "outputs": [],
   "source": []
  }
 ],
 "metadata": {
  "kernelspec": {
   "display_name": "Python 3",
   "language": "python",
   "name": "python3"
  },
  "language_info": {
   "codemirror_mode": {
    "name": "ipython",
    "version": 3
   },
   "file_extension": ".py",
   "mimetype": "text/x-python",
   "name": "python",
   "nbconvert_exporter": "python",
   "pygments_lexer": "ipython3",
   "version": "3.8.8"
  }
 },
 "nbformat": 4,
 "nbformat_minor": 5
}
