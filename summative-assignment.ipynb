{
 "cells": [
  {
   "cell_type": "markdown",
   "id": "9169d50a",
   "metadata": {},
   "source": [
    "# Advanced Programming Summative Assignment\n",
    "\n",
    "Please see the README file (README.md) for a full overview of the project, installation instructions and running instructions. \n",
    "\n",
    "## Contents\n",
    "\n",
    "#### 1.0 [Package installations and import statements](#1.0-Package-installations-and-import-statements)\n",
    "\n",
    "#### 2.0 [Data extraction and cleaning](#2.0-Data-extraction-and-cleaning)\n",
    "\n",
    "2.1 [Read CSVs to dataframes and general data cleaning](#2.2-Merge-airport-and-frequency-dataframes)\n",
    "\n",
    "2.2 [Merge airport and frequency dataframes](#2.1-Read-CSVs-to-dataframes-and-general-data-cleaning)\n",
    "\n",
    "2.3 [Transform dataframes to JSON](#2.3-Transform-dataframes-to-JSON)\n",
    "\n",
    "#### 3.0 [3.0 Manage data functionality and GUI](#3.0-Manage-data-functionality-and-GUI)\n",
    "\n",
    "3.1 [Load data and save data functions](#3.1-Load-data-and-save-data-functions)\n",
    "\n",
    "3.2 [GUI manage data tab functions](#3.2-GUI-manage-data-tab-functions)\n",
    "\n",
    "3.3 [GUI setup with manage data tab and help tab](#3.3-GUI-setup-with-manage-data-tab-and-help-tab)\n",
    "\n",
    "\n"
   ]
  },
  {
   "cell_type": "markdown",
   "id": "89ac444f",
   "metadata": {},
   "source": [
    "### 1.0 Package installations and import statements"
   ]
  },
  {
   "cell_type": "code",
   "execution_count": 41,
   "id": "38ca82a5",
   "metadata": {},
   "outputs": [],
   "source": [
    "# Installing missing packages\n",
    "# %conda install --yes --prefix {sys.prefix} numpy\n",
    "# %conda install --yes --prefix {sys.prefix} pandas"
   ]
  },
  {
   "cell_type": "code",
   "execution_count": 2,
   "id": "1453cb21",
   "metadata": {},
   "outputs": [],
   "source": [
    "# Import packages\n",
    "import os\n",
    "import path\n",
    "import pandas as pd\n",
    "import numpy as np\n",
    "import json\n",
    "import pprint\n",
    "# import matplotlib.pyplot as plt\n",
    "# import seaborn as sns\n",
    "import tkinter as tk\n",
    "from tkinter import ttk\n",
    "from tkinter.tix import *\n",
    "from tkinter import messagebox"
   ]
  },
  {
   "cell_type": "markdown",
   "id": "f15799b3",
   "metadata": {},
   "source": [
    "### 2.0 Data extraction and cleaning\n",
    "\n",
    "A lot of the data processing is generic and not specific to the original data. This allows the application to handle other datasets from the same source. "
   ]
  },
  {
   "cell_type": "markdown",
   "id": "d8e5457f",
   "metadata": {},
   "source": [
    "#### 2.1 Read CSVs to dataframes and general data cleaning"
   ]
  },
  {
   "cell_type": "code",
   "execution_count": 3,
   "id": "11e41857",
   "metadata": {
    "scrolled": true
   },
   "outputs": [],
   "source": [
    "\"\"\"Load and clean data functions.\"\"\"\n",
    "\n",
    "def check_files():\n",
    "    \"\"\"Check that the three csv files exist in the correct folder with the correct names.\"\"\"\n",
    "    if (os.path.exists('data/runways.csv') and os.path.exists('data/airport-frequencies.csv') and os.path.exists('data/airports.csv')):\n",
    "        return True\n",
    "    else: \n",
    "        return False\n",
    "\n",
    "def load_date(): \n",
    "    \"\"\"Extract data from CSV files and add to pandas dataframes.\"\"\"\n",
    "    df_runways = pd.read_csv ('data/runways.csv', index_col=['id'])\n",
    "    df_frequencies = pd.read_csv ('data/airport-frequencies.csv', index_col=['id'])\n",
    "    # Prevent pandas from replacing the 'continent' value 'NA' (for North America) with NaN \n",
    "    df_airports = pd.read_csv ('data/airports.csv', keep_default_na=False)\n",
    "    return (df_runways, df_frequencies, df_airports)\n",
    "\n",
    "# The following functions carry out generic data cleaning on the dataframes\n",
    "\n",
    "def remove_missing_data(df_runways, df_frequencies, df_airports):\n",
    "    \"\"\"Remove any rows with all data missing.\"\"\"\n",
    "    df_airports.dropna(how='all')\n",
    "    df_runways.dropna(how='all')\n",
    "    df_frequencies.dropna(how='all')\n",
    "\n",
    "\n",
    "def remove_duplicates(df_runways, df_frequencies, df_airports):\n",
    "    \"\"\"Remove any duplicated rows.\"\"\"\n",
    "    df_airports.drop_duplicates()\n",
    "    df_runways.drop_duplicates()\n",
    "    df_frequencies.drop_duplicates()\n",
    "\n",
    "\n",
    "def remove_cols(df_runways, df_frequencies, df_airports):\n",
    "    \"\"\"Remove unneeded columns.\"\"\"\n",
    "    df_airports.drop(['keywords','home_link','local_code'], axis='columns', inplace=True)\n",
    "    df_runways.drop(['airport_ident'], axis='columns', inplace=True)\n",
    "    df_frequencies.drop(['airport_ident','description','type'], axis='columns', inplace=True)\n",
    "\n",
    "\n",
    "def change_col_names(df_airports):\n",
    "    \"\"\"Change the airport column id name to airport_ref to align with other data.\"\"\"\n",
    "    df_airports.rename(columns={\"id\": \"airport_ref\"}, inplace=True)\n",
    "\n",
    "\n",
    "def remove_invalid(df_runways, df_frequencies, df_airports):\n",
    "    \"\"\"Remove rows that do not have a valid airport_ref.\"\"\"\n",
    "    df_airports = df_airports[df_airports['airport_ref'].apply(lambda x: str(x).isdigit())]\n",
    "    df_runways = df_runways[df_runways['airport_ref'].apply(lambda x: str(x).isdigit())]\n",
    "    df_frequencies = df_frequencies[df_frequencies['airport_ref'].apply(lambda x: str(x).isdigit())]\n",
    "    return (df_runways, df_frequencies, df_airports)\n",
    "\n",
    "\n",
    "def add_new_cols(df_airports):\n",
    "    \"\"\"Add columns to the Airports df for small, medium and large airports with binary values.\"\"\"\n",
    "    df_airports['small_airport'] = df_airports.type == 'small_airport'\n",
    "    df_airports['medium_airport'] = df_airports.type == 'medium_airport'\n",
    "    df_airports['large_airport'] = df_airports.type == 'large_airport'\n",
    "    df_airports['small_airport'] = df_airports['small_airport'].astype(int) \n",
    "    df_airports['medium_airport'] = df_airports['medium_airport'].astype(int) \n",
    "    df_airports['large_airport'] = df_airports['large_airport'].astype(int) \n",
    "    return(df_airports)\n",
    "\n",
    "\n",
    "def remove_closed(df_airports):\n",
    "    \"\"\"Remove closed airports.\"\"\"\n",
    "    df_airports = df_airports[(df_airports.type != 'closed')]\n",
    "    return(df_airports)\n",
    "\n",
    "\n",
    "def load_new_data():\n",
    "    \"\"\"Call load data and data cleaning functions.\"\"\"\n",
    "    df_runways, df_frequencies, df_airports = load_date()\n",
    "    remove_missing_data(df_runways, df_frequencies, df_airports)\n",
    "    remove_duplicates(df_runways, df_frequencies, df_airports)\n",
    "    remove_cols(df_runways, df_frequencies, df_airports)\n",
    "    change_col_names(df_airports)\n",
    "    remove_invalid(df_runways, df_frequencies, df_airports)\n",
    "    add_new_cols(df_airports)\n",
    "    remove_closed(df_airports)\n",
    "    return df_runways, df_frequencies, df_airports\n"
   ]
  },
  {
   "cell_type": "markdown",
   "id": "3c29c4fc",
   "metadata": {},
   "source": [
    "#### 2.2 Merge airport and frequency dataframes"
   ]
  },
  {
   "cell_type": "code",
   "execution_count": 4,
   "id": "44a1a0e7",
   "metadata": {},
   "outputs": [],
   "source": [
    "\"\"\"Merge airport and frequency dataframes into a single dataframe with one row per airport. Airports with multiple frequencies will have them stored in a list.\"\"\"\n",
    "\n",
    "def frequencies_to_list(df_frequencies):\n",
    "    \"\"\"Create a dictionary of airports each with a nested list of frequencies used by that airport.\"\"\"\n",
    "    # Initialise an empty dict to hold one key for each airport with a nested list of frequencies \n",
    "    frequencies_dict = {}\n",
    "\n",
    "    # Iterate through the frequencies creating one key for each airport with a list for it's frequencies \n",
    "    for index, row in df_frequencies.iterrows():\n",
    "        if row['airport_ref'] not in frequencies_dict:\n",
    "            frequencies_dict[row['airport_ref']] = [row['frequency_mhz']]\n",
    "        else:\n",
    "            frequencies_dict[row['airport_ref']].append(row['frequency_mhz'])\n",
    "    return frequencies_dict\n",
    "\n",
    "\n",
    "def merge_dataframes(frequencies_dict, df_airports):\n",
    "    \"\"\"Merge the airports dataframe with the dictionary of airports with nested lists of frequencies.\"\"\"\n",
    "    # Create a pandas series of airports (as index) and frequency lists \n",
    "    df_frequencies_series = pd.Series(frequencies_dict, name='df_frequencies_series')\n",
    "    # Rename the column titles to align with other data \n",
    "    df_airports_frequencies = df_frequencies_series.to_frame()\n",
    "    df_airports_frequencies.index.name = 'airport_ref'\n",
    "    # Convert to dataframe and merge with airports dataframe \n",
    "    df_airports_frequencies.rename(columns={'df_frequencies_series': 'frequency_mhz'}, inplace = True)\n",
    "    df_airports_frequencies = pd.merge(df_airports, df_airports_frequencies, on=\"airport_ref\", how = 'left')\n",
    "    return df_airports_frequencies\n",
    "\n",
    "\n",
    "def merge_airports_frequencies(df_frequencies, df_airports):\n",
    "    \"\"\"Call merge functions to merge airports with their communication frequencies.\"\"\"\n",
    "    frequencies_dict = frequencies_to_list(df_frequencies)\n",
    "    df_airports_frequencies = merge_dataframes(frequencies_dict, df_airports)\n",
    "    return df_airports_frequencies\n"
   ]
  },
  {
   "cell_type": "markdown",
   "id": "86fbfbec",
   "metadata": {},
   "source": [
    "#### 2.3 Transform dataframes to JSON"
   ]
  },
  {
   "cell_type": "code",
   "execution_count": 5,
   "id": "05fb3951",
   "metadata": {},
   "outputs": [],
   "source": [
    "def transform_to_json(df_airports_frequencies, df_runways):\n",
    "    \"\"\"Translate dataframe data into JSON objects.\"\"\"\n",
    "    # write combined airport and frequency data to JSON\n",
    "    airports_frequencies_json = df_airports_frequencies.to_json(orient = 'records')\n",
    "    airports_frequencies_json_list = json.loads(airports_frequencies_json)\n",
    "    # write runways data to JSON\n",
    "    runways_json = df_runways.to_json(orient = 'records')\n",
    "    runways_json_list = json.loads(runways_json)\n",
    "    return airports_frequencies_json_list, runways_json_list\n"
   ]
  },
  {
   "cell_type": "markdown",
   "id": "d8d65de7",
   "metadata": {},
   "source": [
    "### 3.0 Manage data functionality and GUI"
   ]
  },
  {
   "cell_type": "markdown",
   "id": "84b9a86c",
   "metadata": {},
   "source": [
    "3.1 Load data and save data functions"
   ]
  },
  {
   "cell_type": "code",
   "execution_count": 6,
   "id": "60fd2378",
   "metadata": {},
   "outputs": [],
   "source": [
    "def check_load_files():\n",
    "    \"\"\"Check that the previously saved files exist in the correct folder with the correct names.\"\"\"\n",
    "    if (os.path.exists('./saved-data/airports_frequencies.json') and os.path.exists('./saved-data/runways_json_list.json')):\n",
    "        return True\n",
    "    else:\n",
    "        return False\n",
    "\n",
    "\n",
    "def load_data():\n",
    "    \"\"\"Load previously saved data from JSON files in the 'saved-data' folder\"\"\"\n",
    "    # Chcck that the files correctly exist in the 'save-data' folder and if not return False \n",
    "    with open('./saved-data/airports_frequencies.json', 'r') as infile:\n",
    "        loaded_airports_frequencies = json.load(infile)\n",
    "    with open('./saved-data/runways_json_list.json', 'r') as infile:\n",
    "        loaded_runways = json.load(infile)\n",
    "    return loaded_airports_frequencies, loaded_runways\n",
    "\n",
    "\n",
    "def save_data(airports_frequencies_json_list, runways_json_list):\n",
    "    \"\"\"Save current data to JSON files in the 'saved-data' folder.\"\"\"\n",
    "    try:\n",
    "        with open('./saved-data/airports_frequencies.json', 'w') as outfile:\n",
    "            json.dump(airports_frequencies_json_list, outfile)\n",
    "        with open('./saved-data/runways_json_list.json', 'w') as outfile:\n",
    "            json.dump(runways_json_list, outfile)\n",
    "        messagebox.showinfo(\"Success\", \"Data has been saved\")\n",
    "    except:\n",
    "        messagebox.showwarning(\"Error\", \"There has been an error saving the data\")"
   ]
  },
  {
   "cell_type": "markdown",
   "id": "6545822b",
   "metadata": {},
   "source": [
    "3.2 GUI manage data tab functions"
   ]
  },
  {
   "cell_type": "code",
   "execution_count": 7,
   "id": "fb169edd",
   "metadata": {},
   "outputs": [],
   "source": [
    "# Global variables are not recommended for the production application. However, for this prototype, which has to use Tkinter, there is no other option. With Tkinter, values cannot be returned from a function called by a button click in the Gui\n",
    "current_airports = []\n",
    "current_runways = []\n",
    "\n",
    "def gui_upload():\n",
    "    \"\"\"Upload CSV files to the application.\"\"\"\n",
    "    # Check that the three required files are in the correct folder, with the correct name and csv file extension\n",
    "    if(check_files()):\n",
    "        df_runways, df_frequencies, df_airports = load_new_data()\n",
    "        df_airports_frequencies = merge_airports_frequencies(df_frequencies, df_airports)\n",
    "        airports_frequencies_json_list, runways_json_list = transform_to_json(df_airports_frequencies, df_runways)\n",
    "        # Please see comment at the top of the code block regarding global variables. This is only suitable for this prototype which has to use Tkinter\n",
    "        global current_airports\n",
    "        current_airports = airports_frequencies_json_list\n",
    "        global current_runways\n",
    "        current_runways = runways_json_list\n",
    "        global upload_date\n",
    "        messagebox.showinfo(\"Success\", \"New data has been uploaded\")\n",
    "    else: \n",
    "        # If files are not correct then show error message in GUI\n",
    "        messagebox.showwarning(\"Error\", \"There has been an error uploading new data. Please check that the files are correctly named and in the 'data' folder.\")\n",
    "\n",
    "\n",
    "def gui_load():\n",
    "    \"\"\"Load previously saved data to the application\"\"\"\n",
    "    # Check that the previously saved files exist\n",
    "    if(check_load_files()):\n",
    "        loaded_airports_frequencies, loaded_runways = load_data()\n",
    "        # Please see comment at the top of the code block regarding global variables. This is only suitable for this prototype which has to use Tkinter\n",
    "        global current_airports\n",
    "        current_airports = loaded_airports_frequencies\n",
    "        global current_runways\n",
    "        current_runways = loaded_runways\n",
    "        messagebox.showinfo(\"Success\", \"Previously saved data has been loaded\")\n",
    "    else: \n",
    "        # If files are not correct then show error message in GUI\n",
    "        messagebox.showwarning(\"Error\", \"There has been an error loading the saved data\")\n",
    "\n",
    "\n",
    "def gui_save():\n",
    "    \"\"\"Save current data for future use in the application\"\"\"\n",
    "    save_data(current_airports, current_runways)"
   ]
  },
  {
   "cell_type": "markdown",
   "id": "6fbc9550",
   "metadata": {},
   "source": [
    "3.3 GUI setup with manage data tab and help tab"
   ]
  },
  {
   "cell_type": "code",
   "execution_count": 8,
   "id": "2cb060f4",
   "metadata": {},
   "outputs": [],
   "source": [
    "# Create an instance of a tkinter frame and set the size of the window\n",
    "root = tk.Tk()\n",
    "root.title('Airport data visualisation application')\n",
    "root.geometry(\"800x600\")\n",
    "root.configure(bg=\"white\")\n",
    "\n",
    "# Create an instance of ttk style\n",
    "s = ttk.Style()\n",
    "s.theme_use('default')\n",
    "s.configure('TNotebook.Tab', background=\"white\")\n",
    "s.map(\"TNotebook\", background= [(\"selected\", \"white\")])\n",
    "\n",
    "# Create and pack a Notebook widget\n",
    "tabs = ttk.Notebook(root)\n",
    "tabs.pack(expand= True)\n",
    "\n",
    "# Create and pack tabs\n",
    "tab1 = tk.Frame(tabs, width=800, height=600, padx=10, pady=10)\n",
    "tab2 = tk.Frame(tabs, width=800, height=600, bg=\"red\", padx=10, pady=10)\n",
    "tab3 = tk.Frame(tabs, width=800, height=600, padx=10, pady=10)     \n",
    "tab1.pack(fill=\"both\", expand=1)\n",
    "tab2.pack(fill=\"both\", expand=1)\n",
    "tab3.pack(fill=\"both\", expand=1)\n",
    "                  \n",
    "# Add tab names\n",
    "tabs.add(tab1, text=\"Manage data\")\n",
    "tabs.add(tab2, text=\"Data outputs\")\n",
    "tabs.add(tab3, text=\"Help\")\n",
    "\n",
    "# Add buttons and labels to tab1 (Manage data)\n",
    "uploadTitle = tk.Label(tab1, text=\"Upload new data\", font=(\"Helvetica\", 18), justify=\"left\").place(x=10, y=20)\n",
    "uploadDataBtn = tk.Button(tab1, text=\"Upload data\", command=gui_upload, width = 15).place(x=10, y=65)\n",
    "loadTitle = tk.Label(tab1, text=\"Load previously saved data\", font=(\"Helvetica\", 18), justify=\"left\").place(x=10, y=150)\n",
    "loadSavedDataBtn = tk.Button(tab1, text=\"Load saved data\", command=gui_load, width = 15).place(x=10, y=195)\n",
    "saveTitle = tk.Label(tab1, text=\"Save current data\", font=(\"Helvetica\", 18), justify=\"left\").place(x=10, y=280)\n",
    "saveCurrentDataBtn = tk.Button(tab1, text=\"Save current data\", command=gui_save, width = 15).place(x=10, y=325)\n",
    "\n",
    "# Functions to display the tool tips \n",
    "def show_tip1():\n",
    "\ttoolTipText1.place(x=250, y=50)\n",
    "\n",
    "def show_tip2():\n",
    "\ttoolTipText2.place(x=250, y=197) \n",
    "\n",
    "def show_tip3():\n",
    "\ttoolTipText3.place(x=250, y=319)\n",
    "\n",
    "# Add tool tip buttons\n",
    "toolTipBtn1 = tk.Button(tab1, text=\"?\", command=show_tip1).place(x=185, y=65)\n",
    "toolTipBtn2 = tk.Button(tab1, text=\"?\", command=show_tip2).place(x=185, y=195)\n",
    "toolTipBtn3 = tk.Button(tab1, text=\"?\", command=show_tip3).place(x=185, y=325)\n",
    "\n",
    "# Add tool tip text objects \n",
    "toolTipText1 = tk.Label(tab1, text=\"This feature uploads new data to the application. Files must be correctly named, stored in the 'data' folder and saved in csv format. Files must have the correct column headings.\", font=(\"Helvetica\", 15), wraplength=500, justify=\"left\", fg=\"grey\")\n",
    "toolTipText2 = tk.Label(tab1, text=\"This feature loads the dataset that was last saved in the application.\", font=(\"Helvetica\", 15), wraplength=500, justify=\"left\", fg=\"grey\")\n",
    "toolTipText3 = tk.Label(tab1, text=\"This feature saves the current data for future use in the application. This overwrites any currently saved data.\", font=(\"Helvetica\", 15), wraplength=500, justify=\"left\", fg=\"grey\")\n",
    "\n",
    "# Add instructions to Help tab\n",
    "helpTitle1 = tk.Label(tab3, text=\"Managing data\", font=(\"Helvetica\", 18), justify=\"left\").place(x=10, y=20)\n",
    "helpSubtitle1 = tk.Label(tab3, text=\"Uploading new data:\", font=(\"Helvetica\", 16), justify=\"left\").place(x=10, y=55)\n",
    "helpText1 = tk.Label(tab3, text=\"From the Manage data tab, please click the Upload data button. Files must be correctly named as 'airport-frequencies.csv', 'airports.csv', and 'runways.csv'. Files must be stored in the 'data' folder and saved in csv format. Files must have the correct column headings.\", font=(\"Helvetica\", 15), wraplength=740, justify=\"left\").place(x=10, y=90)\n",
    "helpSubtitle2 = tk.Label(tab3, text=\"Loading previously saved data:\", font=(\"Helvetica\", 16), justify=\"left\").place(x=10, y=165)\n",
    "helpText2 = tk.Label(tab3, text=\"From the Manage data tab, please click the Load saved data button. This will load the previously saved data into the application.\", font=(\"Helvetica\", 15), wraplength=740, justify=\"left\").place(x=10, y=200)\n",
    "helpSubtitle3 = tk.Label(tab3, text=\"Saving current data:\", font=(\"Helvetica\", 16), justify=\"left\").place(x=10, y=260)\n",
    "helpText3 = tk.Label(tab3, text=\"From the Manage data tab, please click the Save current data button. This will save the current data for future use in the application.\", font=(\"Helvetica\", 15), wraplength=740, justify=\"left\").place(x=10, y=295)\n",
    "helpTitle2 = tk.Label(tab3, text=\"Data outputs\", font=(\"Helvetica\", 18), justify=\"left\").place(x=10, y=360)"
   ]
  },
  {
   "cell_type": "markdown",
   "id": "47f84e70",
   "metadata": {},
   "source": [
    "### 4.0 Data outputs"
   ]
  },
  {
   "cell_type": "markdown",
   "metadata": {},
   "source": [
    "4.1 Data output calculations"
   ]
  },
  {
   "cell_type": "code",
   "execution_count": 13,
   "id": "3c1f7e5e",
   "metadata": {},
   "outputs": [
    {
     "ename": "TypeError",
     "evalue": "string indices must be integers",
     "output_type": "error",
     "traceback": [
      "\u001b[0;31m---------------------------------------------------------------------------\u001b[0m",
      "\u001b[0;31mTypeError\u001b[0m                                 Traceback (most recent call last)",
      "\u001b[0;32m<ipython-input-13-1316d8535a3c>\u001b[0m in \u001b[0;36m<module>\u001b[0;34m\u001b[0m\n\u001b[1;32m     13\u001b[0m     \u001b[0mprint\u001b[0m\u001b[0;34m(\u001b[0m\u001b[0mdf_loaded_aiprorts\u001b[0m\u001b[0;34m)\u001b[0m\u001b[0;34m\u001b[0m\u001b[0;34m\u001b[0m\u001b[0m\n\u001b[1;32m     14\u001b[0m \u001b[0;34m\u001b[0m\u001b[0m\n\u001b[0;32m---> 15\u001b[0;31m \u001b[0mconvert_json_to_df\u001b[0m\u001b[0;34m(\u001b[0m\u001b[0;34m)\u001b[0m\u001b[0;34m\u001b[0m\u001b[0;34m\u001b[0m\u001b[0m\n\u001b[0m",
      "\u001b[0;32m<ipython-input-13-1316d8535a3c>\u001b[0m in \u001b[0;36mconvert_json_to_df\u001b[0;34m()\u001b[0m\n\u001b[1;32m     10\u001b[0m \u001b[0;32mdef\u001b[0m \u001b[0mconvert_json_to_df\u001b[0m\u001b[0;34m(\u001b[0m\u001b[0;34m)\u001b[0m\u001b[0;34m:\u001b[0m\u001b[0;34m\u001b[0m\u001b[0;34m\u001b[0m\u001b[0m\n\u001b[1;32m     11\u001b[0m     \u001b[0mloaded_aiports_data\u001b[0m \u001b[0;34m=\u001b[0m \u001b[0mjson\u001b[0m\u001b[0;34m.\u001b[0m\u001b[0mdumps\u001b[0m\u001b[0;34m(\u001b[0m\u001b[0mcurrent_airports\u001b[0m\u001b[0;34m)\u001b[0m\u001b[0;34m\u001b[0m\u001b[0;34m\u001b[0m\u001b[0m\n\u001b[0;32m---> 12\u001b[0;31m     \u001b[0mdf_loaded_aiprorts\u001b[0m \u001b[0;34m=\u001b[0m \u001b[0mpd\u001b[0m\u001b[0;34m.\u001b[0m\u001b[0mjson_normalize\u001b[0m\u001b[0;34m(\u001b[0m\u001b[0mloaded_aiports_data\u001b[0m\u001b[0;34m[\u001b[0m\u001b[0;34m''\u001b[0m\u001b[0;34m]\u001b[0m\u001b[0;34m)\u001b[0m\u001b[0;34m\u001b[0m\u001b[0;34m\u001b[0m\u001b[0m\n\u001b[0m\u001b[1;32m     13\u001b[0m     \u001b[0mprint\u001b[0m\u001b[0;34m(\u001b[0m\u001b[0mdf_loaded_aiprorts\u001b[0m\u001b[0;34m)\u001b[0m\u001b[0;34m\u001b[0m\u001b[0;34m\u001b[0m\u001b[0m\n\u001b[1;32m     14\u001b[0m \u001b[0;34m\u001b[0m\u001b[0m\n",
      "\u001b[0;31mTypeError\u001b[0m: string indices must be integers"
     ]
    }
   ],
   "source": [
    "# Load some data first --- this needs deleting before prod ----\n",
    "# current_airports = []\n",
    "# current_runways = []\n",
    "\n",
    "# gui_upload()\n",
    "# gui_load()\n",
    "\n",
    "# print(type(current_airports))\n",
    "\n",
    "def convert_json_to_df():\n",
    "    loaded_aiports_data = json.loads(current_airports)\n",
    "    df_loaded_aiprorts = pd.json_normalize(loaded_aiports_data[''])\n",
    "    print(df_loaded_aiprorts)\n",
    "\n",
    "convert_json_to_df()\n"
   ]
  },
  {
   "cell_type": "markdown",
   "id": "d7ce297a",
   "metadata": {},
   "source": [
    "GUI data output tab functions"
   ]
  },
  {
   "cell_type": "code",
   "execution_count": null,
   "id": "07da9cda",
   "metadata": {},
   "outputs": [],
   "source": [
    "def check_current_data():\n",
    "    \"\"\"Check if data is currently loaded or uploaded into the application.\"\"\"\n",
    "    if (len(current_airports) == 0 and len(current_runways) == 0):\n",
    "        messagebox.showwarning(\"Error\", \"No data is loaded into the application. Please visit the 'Manage data' tab\")\n"
   ]
  },
  {
   "cell_type": "markdown",
   "id": "802a282f",
   "metadata": {},
   "source": [
    "GUI data output tab"
   ]
  },
  {
   "cell_type": "code",
   "execution_count": 10,
   "id": "c03a901b",
   "metadata": {},
   "outputs": [],
   "source": [
    "root.mainloop()"
   ]
  }
 ],
 "metadata": {
  "kernelspec": {
   "display_name": "Python 3",
   "language": "python",
   "name": "python3"
  },
  "language_info": {
   "codemirror_mode": {
    "name": "ipython",
    "version": 3
   },
   "file_extension": ".py",
   "mimetype": "text/x-python",
   "name": "python",
   "nbconvert_exporter": "python",
   "pygments_lexer": "ipython3",
   "version": "3.8.8"
  }
 },
 "nbformat": 4,
 "nbformat_minor": 5
}
