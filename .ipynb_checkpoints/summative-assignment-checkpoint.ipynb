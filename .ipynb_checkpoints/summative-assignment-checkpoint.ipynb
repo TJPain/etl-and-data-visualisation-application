{
 "cells": [
  {
   "cell_type": "markdown",
   "id": "9169d50a",
   "metadata": {},
   "source": [
    "# Advanced Programming Summative Assignment\n",
    "\n",
    "Please see the README file (README.md) for a full overview of the project, installation instructions and running instructions. \n",
    "\n",
    "## Contents\n",
    "\n",
    "#### 1.0 [Import Statements](#1.0-Import-statements)\n",
    "\n",
    "#### 2.0 [Some test....](#2.0-Some-test)\n",
    "\n",
    "2.1 [Some other test](#2.1-Some-other-test)"
   ]
  },
  {
   "cell_type": "markdown",
   "id": "89ac444f",
   "metadata": {},
   "source": [
    "### 1.0 Import statements"
   ]
  },
  {
   "cell_type": "code",
   "execution_count": 4,
   "id": "1453cb21",
   "metadata": {},
   "outputs": [],
   "source": [
    "# import statements\n",
    "import pandas as pd\n",
    "import json"
   ]
  },
  {
   "cell_type": "code",
   "execution_count": 9,
   "id": "11e41857",
   "metadata": {
    "scrolled": true
   },
   "outputs": [
    {
     "name": "stdout",
     "output_type": "stream",
     "text": [
      "           id    ident           type                                name  \\\n",
      "0        6523      00A       heliport                   Total Rf Heliport   \n",
      "1      323361     00AA  small_airport                Aero B Ranch Airport   \n",
      "2        6524     00AK  small_airport                        Lowell Field   \n",
      "3        6525     00AL  small_airport                        Epps Airpark   \n",
      "4        6526     00AR         closed  Newport Hospital & Clinic Heliport   \n",
      "...       ...      ...            ...                                 ...   \n",
      "68942   46378  ZZ-0001       heliport                     Sealand Helipad   \n",
      "68943  307326  ZZ-0002  small_airport           Glorioso Islands Airstrip   \n",
      "68944  346788  ZZ-0003  small_airport               Fainting Goat Airport   \n",
      "68945  342102     ZZZW         closed              Scandium City Heliport   \n",
      "68946  313629     ZZZZ  small_airport              Satsuma Iōjima Airport   \n",
      "\n",
      "       latitude_deg  longitude_deg  elevation_ft continent iso_country  \\\n",
      "0         40.070801     -74.933601          11.0       NaN          US   \n",
      "1         38.704022    -101.473911        3435.0       NaN          US   \n",
      "2         59.947733    -151.692524         450.0       NaN          US   \n",
      "3         34.864799     -86.770302         820.0       NaN          US   \n",
      "4         35.608700     -91.254898         237.0       NaN          US   \n",
      "...             ...            ...           ...       ...         ...   \n",
      "68942     51.894444       1.482500          40.0        EU          GB   \n",
      "68943    -11.584278      47.296389          11.0        AF          TF   \n",
      "68944     32.110587     -97.356312         690.0       NaN          US   \n",
      "68945     69.355287    -138.939310           4.0       NaN          CA   \n",
      "68946     30.784722     130.270556         338.0        AS          JP   \n",
      "\n",
      "      iso_region         municipality scheduled_service gps_code iata_code  \\\n",
      "0          US-PA             Bensalem                no      00A       NaN   \n",
      "1          US-KS                Leoti                no     00AA       NaN   \n",
      "2          US-AK         Anchor Point                no     00AK       NaN   \n",
      "3          US-AL              Harvest                no     00AL       NaN   \n",
      "4          US-AR              Newport                no      NaN       NaN   \n",
      "...          ...                  ...               ...      ...       ...   \n",
      "68942     GB-ENG              Sealand                no      NaN       NaN   \n",
      "68943     TF-U-A     Grande Glorieuse                no      NaN       NaN   \n",
      "68944      US-TX                 Blum                no     87TX       NaN   \n",
      "68945      CA-YT  (Old) Scandium City                no     ZZZW       ZYW   \n",
      "68946      JP-46              Mishima                no     RJX7       NaN   \n",
      "\n",
      "      local_code                   home_link  \\\n",
      "0            00A                         NaN   \n",
      "1           00AA                         NaN   \n",
      "2           00AK                         NaN   \n",
      "3           00AL                         NaN   \n",
      "4            NaN                         NaN   \n",
      "...          ...                         ...   \n",
      "68942        NaN  http://www.sealandgov.org/   \n",
      "68943        NaN                         NaN   \n",
      "68944       87TX                         NaN   \n",
      "68945       YK96                         NaN   \n",
      "68946       RJX7                         NaN   \n",
      "\n",
      "                                          wikipedia_link              keywords  \n",
      "0                                                    NaN                   NaN  \n",
      "1                                                    NaN                   NaN  \n",
      "2                                                    NaN                   NaN  \n",
      "3                                                    NaN                   NaN  \n",
      "4                                                    NaN                  00AR  \n",
      "...                                                  ...                   ...  \n",
      "68942  https://en.wikipedia.org/wiki/Principality_of_...  Roughs Tower Helipad  \n",
      "68943                                                NaN                   NaN  \n",
      "68944                                                NaN                   NaN  \n",
      "68945                                                NaN                   NaN  \n",
      "68946  http://wikimapia.org/6705190/Satsuma-Iwo-jima-...  SATSUMA,IWOJIMA,RJX7  \n",
      "\n",
      "[68947 rows x 18 columns]\n"
     ]
    }
   ],
   "source": [
    "df_airports = pd.read_csv ('data/airports.csv')\n",
    "df_runways = pd.read_csv ('data/runways.csv')\n",
    "df_frequencies = pd.read_csv ('data/airport-frequencies.csv')\n",
    "\n",
    "print(df_airports)"
   ]
  },
  {
   "cell_type": "code",
   "execution_count": null,
   "id": "4961ae8f",
   "metadata": {},
   "outputs": [],
   "source": []
  },
  {
   "cell_type": "code",
   "execution_count": null,
   "id": "81f08a9f",
   "metadata": {},
   "outputs": [],
   "source": []
  },
  {
   "cell_type": "markdown",
   "id": "f15799b3",
   "metadata": {},
   "source": [
    "### 2.0 Some test"
   ]
  },
  {
   "cell_type": "code",
   "execution_count": null,
   "id": "f2cded8e",
   "metadata": {},
   "outputs": [],
   "source": []
  },
  {
   "cell_type": "markdown",
   "id": "d8d65de7",
   "metadata": {},
   "source": [
    "#### 2.1 Some other test"
   ]
  },
  {
   "cell_type": "code",
   "execution_count": null,
   "id": "fb169edd",
   "metadata": {},
   "outputs": [],
   "source": []
  }
 ],
 "metadata": {
  "kernelspec": {
   "display_name": "Python 3",
   "language": "python",
   "name": "python3"
  },
  "language_info": {
   "codemirror_mode": {
    "name": "ipython",
    "version": 3
   },
   "file_extension": ".py",
   "mimetype": "text/x-python",
   "name": "python",
   "nbconvert_exporter": "python",
   "pygments_lexer": "ipython3",
   "version": "3.8.8"
  }
 },
 "nbformat": 4,
 "nbformat_minor": 5
}
