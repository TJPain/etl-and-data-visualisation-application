{
 "cells": [
  {
   "cell_type": "markdown",
   "id": "9169d50a",
   "metadata": {},
   "source": [
    "# Advanced Programming Summative Assignment\n",
    "\n",
    "Please see the README file (README.md) for a full overview of the project, installation instructions and running instructions. \n",
    "\n",
    "## Contents\n",
    "\n",
    "#### 1.0 [Package installations and import statements](#1.0-Package-installations-and-import-statements)\n",
    "\n",
    "#### 2.0 [Data extraction and cleaning](#2.0-Data-extraction-and-cleaning)\n",
    "\n",
    "2.1 [Some other test](#2.1-Some-other-test)"
   ]
  },
  {
   "cell_type": "markdown",
   "id": "89ac444f",
   "metadata": {},
   "source": [
    "### 1.0 Package installations and import statements"
   ]
  },
  {
   "cell_type": "code",
   "execution_count": 1,
   "id": "38ca82a5",
   "metadata": {},
   "outputs": [],
   "source": [
    "# Installing missing packages\n",
    "# import sys\n",
    "# !conda install --yes --prefix {sys.prefix} mysql-connector-python \n",
    "# !conda install --yes --prefix {sys.prefix} numpy\n",
    "# !conda install --yes --prefix {sys.prefix} pandas\n"
   ]
  },
  {
   "cell_type": "code",
   "execution_count": 1,
   "id": "1453cb21",
   "metadata": {},
   "outputs": [],
   "source": [
    "# Import packages\n",
    "import os\n",
    "import pandas as pd\n",
    "import numpy as np\n",
    "import json\n",
    "# import mysql.connector\n",
    "import matplotlib.pyplot as plt\n",
    "import seaborn as sns\n",
    "import tkinter as tk"
   ]
  },
  {
   "cell_type": "markdown",
   "id": "f15799b3",
   "metadata": {},
   "source": [
    "### 2.0 Data extraction and cleaning\n",
    "\n",
    "A lot of the data processing is generic and not specific to the original data. This allows the application to handle other datasets from the same source. "
   ]
  },
  {
   "cell_type": "code",
   "execution_count": 2,
   "id": "11e41857",
   "metadata": {
    "scrolled": true
   },
   "outputs": [
    {
     "name": "stdout",
     "output_type": "stream",
     "text": [
      "       airport_ref    ident           type  \\\n",
      "0             6523      00A       heliport   \n",
      "1           323361     00AA  small_airport   \n",
      "2             6524     00AK  small_airport   \n",
      "3             6525     00AL  small_airport   \n",
      "4             6526     00AR         closed   \n",
      "...            ...      ...            ...   \n",
      "68942        46378  ZZ-0001       heliport   \n",
      "68943       307326  ZZ-0002  small_airport   \n",
      "68944       346788  ZZ-0003  small_airport   \n",
      "68945       342102     ZZZW         closed   \n",
      "68946       313629     ZZZZ  small_airport   \n",
      "\n",
      "                                     name  latitude_deg  longitude_deg  \\\n",
      "0                       Total Rf Heliport     40.070801     -74.933601   \n",
      "1                    Aero B Ranch Airport     38.704022    -101.473911   \n",
      "2                            Lowell Field     59.947733    -151.692524   \n",
      "3                            Epps Airpark     34.864799     -86.770302   \n",
      "4      Newport Hospital & Clinic Heliport     35.608700     -91.254898   \n",
      "...                                   ...           ...            ...   \n",
      "68942                     Sealand Helipad     51.894444       1.482500   \n",
      "68943           Glorioso Islands Airstrip    -11.584278      47.296389   \n",
      "68944               Fainting Goat Airport     32.110587     -97.356312   \n",
      "68945              Scandium City Heliport     69.355287    -138.939310   \n",
      "68946              Satsuma Iōjima Airport     30.784722     130.270556   \n",
      "\n",
      "       elevation_ft continent iso_country iso_region         municipality  \\\n",
      "0              11.0       NaN          US      US-PA             Bensalem   \n",
      "1            3435.0       NaN          US      US-KS                Leoti   \n",
      "2             450.0       NaN          US      US-AK         Anchor Point   \n",
      "3             820.0       NaN          US      US-AL              Harvest   \n",
      "4             237.0       NaN          US      US-AR              Newport   \n",
      "...             ...       ...         ...        ...                  ...   \n",
      "68942          40.0        EU          GB     GB-ENG              Sealand   \n",
      "68943          11.0        AF          TF     TF-U-A     Grande Glorieuse   \n",
      "68944         690.0       NaN          US      US-TX                 Blum   \n",
      "68945           4.0       NaN          CA      CA-YT  (Old) Scandium City   \n",
      "68946         338.0        AS          JP      JP-46              Mishima   \n",
      "\n",
      "      scheduled_service gps_code iata_code  \\\n",
      "0                    no      00A       NaN   \n",
      "1                    no     00AA       NaN   \n",
      "2                    no     00AK       NaN   \n",
      "3                    no     00AL       NaN   \n",
      "4                    no      NaN       NaN   \n",
      "...                 ...      ...       ...   \n",
      "68942                no      NaN       NaN   \n",
      "68943                no      NaN       NaN   \n",
      "68944                no     87TX       NaN   \n",
      "68945                no     ZZZW       ZYW   \n",
      "68946                no     RJX7       NaN   \n",
      "\n",
      "                                          wikipedia_link  small_airport  \\\n",
      "0                                                    NaN              0   \n",
      "1                                                    NaN              1   \n",
      "2                                                    NaN              1   \n",
      "3                                                    NaN              1   \n",
      "4                                                    NaN              0   \n",
      "...                                                  ...            ...   \n",
      "68942  https://en.wikipedia.org/wiki/Principality_of_...              0   \n",
      "68943                                                NaN              1   \n",
      "68944                                                NaN              1   \n",
      "68945                                                NaN              0   \n",
      "68946  http://wikimapia.org/6705190/Satsuma-Iwo-jima-...              1   \n",
      "\n",
      "       medium_airport  large_airport  \n",
      "0                   0              0  \n",
      "1                   0              0  \n",
      "2                   0              0  \n",
      "3                   0              0  \n",
      "4                   0              0  \n",
      "...               ...            ...  \n",
      "68942               0              0  \n",
      "68943               0              0  \n",
      "68944               0              0  \n",
      "68945               0              0  \n",
      "68946               0              0  \n",
      "\n",
      "[68947 rows x 18 columns]\n"
     ]
    }
   ],
   "source": [
    "# Extract data from CSV files\n",
    "df_airports = pd.read_csv ('data/airports.csv')\n",
    "df_runways = pd.read_csv ('data/runways.csv', index_col=['id'])\n",
    "df_frequencies = pd.read_csv ('data/airport-frequencies.csv', index_col=['id'])\n",
    "\n",
    "# Remove any rows with all data missing\n",
    "df_airports.dropna(how='all')\n",
    "df_runways.dropna(how='all')\n",
    "df_frequencies.dropna(how='all')\n",
    "\n",
    "# Remove any duplicated rows\n",
    "df_airports.drop_duplicates()\n",
    "df_runways.drop_duplicates()\n",
    "df_frequencies.drop_duplicates()\n",
    "\n",
    "# Remove unneeded columns\n",
    "df_airports.drop(['keywords','home_link','local_code'], axis='columns', inplace=True)\n",
    "df_runways.drop(['airport_ident'], axis='columns', inplace=True)\n",
    "df_frequencies.drop(['airport_ident','description','type'], axis='columns', inplace=True)\n",
    "\n",
    "# change the airport column id name to airport_ref to align with other data\n",
    "df_airports.rename(columns={\"id\": \"airport_ref\"}, inplace=True)\n",
    "\n",
    "# Remove rows that do not have a valid airport_ref\n",
    "df_airports = df_airports[df_airports['airport_ref'].apply(lambda x: str(x).isdigit())]\n",
    "df_runways = df_runways[df_runways['airport_ref'].apply(lambda x: str(x).isdigit())]\n",
    "df_frequencies = df_frequencies[df_frequencies['airport_ref',].apply(lambda x: str(x).isdigit())]\n",
    "\n",
    "# Add columns to the Airports df for small, medium and large airports with binary values\n",
    "df_airports['small_airport'] = df_airports.type == 'small_airport'\n",
    "df_airports['medium_airport'] = df_airports.type == 'medium_airport'\n",
    "df_airports['large_airport'] = df_airports.type == 'large_airport'\n",
    "df_airports['small_airport'] = df_airports['small_airport'].astype(int) \n",
    "df_airports['medium_airport'] = df_airports['medium_airport'].astype(int) \n",
    "df_airports['large_airport'] = df_airports['large_airport'].astype(int) \n",
    "\n",
    "# Pandas replaces the 'continent' value 'NA' (for North America) with NaN. Change back.\n",
    "# df_airports=df_airports.continent.replace(\"NaN\",\"NA\")\n",
    "\n",
    "\n",
    "# Change any important data types that are not in their correct format\n",
    "# df_airports\n",
    "\n",
    "\n",
    "\n",
    "\n",
    "\n",
    "\n",
    "\n",
    "\n",
    "# filter out closed airports - may need to force a copy, not sure yet - may need to do this after frequencies are added\n",
    "# df_airports = df_airports[(df_airports.type != 'closed')]\n",
    "\n",
    "# merge two dataframes\n",
    "# df_airports_frequencies = pd.merge(df_airports, df_frequencies, on=\"airport_ref\", how = 'outer')\n",
    "\n",
    "# df_airports_frequencies.shape\n",
    "\n",
    "print(df_airports)\n",
    "# print('')\n",
    "# print(df_frequencies)\n",
    "# print('')\n",
    "# print(df_airports_frequencies)"
   ]
  },
  {
   "cell_type": "code",
   "execution_count": 10,
   "id": "05fb3951",
   "metadata": {},
   "outputs": [
    {
     "name": "stdout",
     "output_type": "stream",
     "text": [
      "<class 'dict'>\n",
      "{'airport_ref': 323361, 'ident': '00AA', 'type': 'small_airport', 'name': 'Aero B Ranch Airport', 'latitude_deg': 38.704022, 'longitude_deg': -101.473911, 'elevation_ft': 3435.0, 'continent': None, 'iso_country': 'US', 'iso_region': 'US-KS', 'municipality': 'Leoti', 'scheduled_service': 'no', 'gps_code': '00AA', 'iata_code': None, 'wikipedia_link': None, 'small_airport': 1, 'medium_airport': 0, 'large_airport': 0}\n"
     ]
    }
   ],
   "source": [
    "# write to JSON\n",
    "airports_json = df_airports.to_json(orient = 'records')\n",
    "airports_json_list = json.loads(airports_json)\n",
    "\n",
    "airport_frequencies_json = df_frequencies.to_json(orient = 'records')\n",
    "frequencies_json_list = json.loads(airport_frequencies_json)\n",
    "\n",
    "for frequency in frequencies_json_list:\n",
    "    for airport in airports_json_list:\n",
    "        if frequency['airport_ref'] == airport['airport_ref']:\n",
    "            airport[frequency['type']] = frequency['frequency_mhz']\n",
    "            \n",
    "\n",
    "            \n",
    "\n",
    "print(airports_json_list[1])\n",
    "\n",
    "# json.dumps(parsed, indent=4) print\n",
    "# print(type(json_dict))\n",
    "# print(type(airports_json))\n",
    "# print(airports_json[0:380])\n",
    "\n",
    "# print(json_list[1])\n",
    "# for airport in json_list:\n",
    "#     print(i)\n",
    "# print(frequencies_json_list)"
   ]
  },
  {
   "cell_type": "code",
   "execution_count": null,
   "id": "b7826cb0",
   "metadata": {},
   "outputs": [],
   "source": [
    "print('airports')\n",
    "df_airports.shape"
   ]
  },
  {
   "cell_type": "code",
   "execution_count": 138,
   "id": "bae97383",
   "metadata": {},
   "outputs": [
    {
     "name": "stdout",
     "output_type": "stream",
     "text": [
      "frequencies\n"
     ]
    },
    {
     "data": {
      "text/plain": [
       "(28962, 5)"
      ]
     },
     "execution_count": 138,
     "metadata": {},
     "output_type": "execute_result"
    }
   ],
   "source": [
    "print('frequencies')\n",
    "df_frequencies.shape"
   ]
  },
  {
   "cell_type": "code",
   "execution_count": 190,
   "id": "48fa9e9d",
   "metadata": {},
   "outputs": [
    {
     "data": {
      "text/plain": [
       "(87317, 20)"
      ]
     },
     "execution_count": 190,
     "metadata": {},
     "output_type": "execute_result"
    }
   ],
   "source": [
    "# df_airports_frequencies = pd.merge(df_frequencies, df_airports,  on=\"airport_ref\", how = 'outer')\n",
    "# # # df_airports_frequencies.dropna(how='all')\n",
    "# # # df_airports_frequencies = df_airports_frequencies.dropna(subset=['airport_ref'])\n",
    "# df_airports_frequencies.shape\n",
    "# # print(df_airports_frequencies)\n",
    "# # df_airports_frequencies.to_csv('file_name.csv')"
   ]
  },
  {
   "cell_type": "code",
   "execution_count": 204,
   "id": "4961ae8f",
   "metadata": {},
   "outputs": [
    {
     "name": "stdout",
     "output_type": "stream",
     "text": [
      "[{\"airport_ref\":6528,\"type_x\":\"CTAF\",\"frequency_mhz\":122.9,\"ident\":\"00CA\",\"type_y\":\"small_airport\",\"name\":\"Goldstone (GTS) Airport\",\"latitude_deg\":35.35474,\"longitude_deg\":-116.885329,\"elevation_ft\":3038.0,\"continent\":null,\"iso_country\":\"US\",\"iso_region\":\"US-CA\",\"municipality\":\"Barstow\",\"scheduled_service\":\"no\",\"gps_code\":\"00CA\",\"iata_code\":null,\"wikipedia_link\":null,\"small_airport\":1,\"medium_airport\":0,\"large_airport\":0},{\"airport_ref\":6589,\"type_x\":\"ARCAL\",\"frequency_mhz\":122.9,\"ident\":\"01FL\",\"type_y\":\"small_airport\",\"name\":\"Cedar Knoll Flying Ranch Airport\",\"latitude_deg\":28.7819004059,\"longitude_deg\":-81.1592025757,\"elevation_ft\":19.0,\"continent\":null,\"iso_country\":\"US\",\"iso_region\":\"US-FL\",\"municipality\":\"Geneva\",\"scheduled_service\":\"no\",\"gps_code\":\"01FL\",\"iata_code\":null,\"wikipedia_link\":null,\"small_airport\":1,\"medium_airport\":0,\"large_airport\":0},{\"airport_ref\":6589,\"type_x\":\"CTAF\",\"frequency_mhz\":122.8,\"ident\":\"01FL\",\"type_y\":\"small_airport\",\"name\":\"Cedar Knoll Flying Ranch Air\n"
     ]
    }
   ],
   "source": []
  },
  {
   "cell_type": "code",
   "execution_count": null,
   "id": "81f08a9f",
   "metadata": {},
   "outputs": [],
   "source": []
  },
  {
   "cell_type": "code",
   "execution_count": null,
   "id": "f2cded8e",
   "metadata": {},
   "outputs": [],
   "source": []
  },
  {
   "cell_type": "markdown",
   "id": "d8d65de7",
   "metadata": {},
   "source": [
    "#### 2.1 Some other test"
   ]
  },
  {
   "cell_type": "code",
   "execution_count": null,
   "id": "fb169edd",
   "metadata": {},
   "outputs": [],
   "source": []
  }
 ],
 "metadata": {
  "kernelspec": {
   "display_name": "Python 3",
   "language": "python",
   "name": "python3"
  },
  "language_info": {
   "codemirror_mode": {
    "name": "ipython",
    "version": 3
   },
   "file_extension": ".py",
   "mimetype": "text/x-python",
   "name": "python",
   "nbconvert_exporter": "python",
   "pygments_lexer": "ipython3",
   "version": "3.8.8"
  }
 },
 "nbformat": 4,
 "nbformat_minor": 5
}
